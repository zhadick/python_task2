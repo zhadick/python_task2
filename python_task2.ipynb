{
  "metadata": {
    "kernelspec": {
      "name": "python",
      "display_name": "Python (Pyodide)",
      "language": "python"
    },
    "language_info": {
      "codemirror_mode": {
        "name": "python",
        "version": 3
      },
      "file_extension": ".py",
      "mimetype": "text/x-python",
      "name": "python",
      "nbconvert_exporter": "python",
      "pygments_lexer": "ipython3",
      "version": "3.8"
    }
  },
  "nbformat_minor": 5,
  "nbformat": 4,
  "cells": [
    {
      "cell_type": "raw",
      "source": "Об’єктно-орієнтоване програмування за допомогою Python",
      "metadata": {},
      "id": "1bc76c5d-a04e-490f-96da-0f43a1e743b9"
    },
    {
      "cell_type": "code",
      "source": "# загальна iнформацiя про працiвникiв\nclass Employee:\n    def __init__(self, firstName, lastName, baseSalary, experience):\n        self.firstName = firstName\n        self.lastName = lastName\n        self.baseSalary = baseSalary\n        self.experience = experience\n    \n    # заробiтня плата вiдносно досвiду\n    def countedSalary(self):\n        if self.experience > 5:\n            return self.baseSalary * 1.2 + 500\n        elif self.experience > 2:\n            return self.baseSalary + 200\n        else:\n            return self.baseSalary\n\n\nclass Designer(Employee):\n    def __init__(self, firstName, lastName, baseSalary, experience, effCoeff):\n        super().__init__(firstName, lastName, baseSalary, experience)\n        self.effCoeff = effCoeff\n    \n    # на зп Designer впливає коефіцієнт ефективності (число від 0 до 1.)\n    def countedSalary(self):\n        return super().countedSalary() * self.effCoeff\n\nclass Manager(Employee):\n    def __init__(self, firstName, lastName, baseSalary, experience, team):\n        super().__init__(firstName, lastName, baseSalary, experience)\n        self.team = team\n    \n    # ЗП співробітника на основі його базової зарплати і досвіду роботи.\n    def countedSalary(self):\n        salary = super().countedSalary()\n        if len(self.team) > 10:\n            salary += 300\n        elif len(self.team) > 5:\n            salary += 200\n\n        # команда, що складається з довільної кількості Developer та Designer\n        devs = sum(1 for emp in self.team if isinstance(emp, Developer))\n        des = sum(1 for emp in self.team if isinstance(emp, Designer))\n        if devs > len(self.team) / 2:\n            salary *= 1.1\n        return salary\n\nclass Department:\n    def __init__(self, managers):\n        self.managers = managers\n    \n    # зарплата ВСІХ Employee організації в форматі \"іʼмя призвіще отримав <число> шекєлей\".\n    def giveSalary(self):\n        for manager in self.managers:\n            for emp in manager.team:\n                print(f\"{emp.firstName} {emp.lastName} отримав {emp.countedSalary()} шекелів.\")\n\nclass Developer(Employee):\n    def __init__(self, first_name, last_name, salary, experience):\n        super().__init__(first_name, last_name, salary, experience)\n    \n\n\ndev1 = Developer(\"John\", \"Doe\", 5000, 3)\ndev2 = Developer(\"Jane\", \"Smith\", 6500, 5)\ndes1 = Designer(\"Alex\", \"Smith\", 3500, 5, 0.8)\ndes2 = Designer(\"Anna\", \"Johnson\", 4500, 2, 0.9)\nman1 = Manager(\"Bob\", \"Brown\", 6000, 10, [dev1, des1])\nman2 = Manager(\"Sarah\", \"Lee\", 7000, 8, [dev2, des2])\n\ndept = Department([man1, man2])\ndept.giveSalary()",
      "metadata": {
        "trusted": true
      },
      "execution_count": 17,
      "outputs": [
        {
          "name": "stdout",
          "text": "John Doe отримав 5200 шекелів.\nAlex Smith отримав 2960.0 шекелів.\nJane Smith отримав 6700 шекелів.\nAnna Johnson отримав 4050.0 шекелів.\n",
          "output_type": "stream"
        }
      ],
      "id": "4bf7b62f-fe44-4994-baac-a45ecdc5854f"
    }
  ]
}